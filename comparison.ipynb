{
 "cells": [
  {
   "cell_type": "code",
   "execution_count": 1,
   "id": "57054146-82bd-4dfd-b403-bc1155c2f995",
   "metadata": {},
   "outputs": [
    {
     "name": "stdout",
     "output_type": "stream",
     "text": [
      "🚀 Starting Football Prospect Scouting Model Comparison\n",
      "\n",
      "🔧 Initializing enhanced evaluator...\n",
      "\n",
      "🔍 Loading models with resource tracking...\n"
     ]
    },
    {
     "name": "stderr",
     "output_type": "stream",
     "text": [
      "2025-07-13 04:18:03,295 - model_comparison - ERROR - Failed to load AdaBoost.pkl: Model missing required prediction methods\n",
      "2025-07-13 04:18:03,295 - model_comparison - ERROR - Failed to load HistGradientBoosting.pkl: Model missing required prediction methods\n",
      "2025-07-13 04:18:03,537 - model_comparison - ERROR - Failed to load LightGBM.pkl: invalid load key, '\\x02'.\n",
      "2025-07-13 04:18:03,561 - model_comparison - ERROR - Failed to load LogisticRegression.pkl: Model missing required prediction methods\n",
      "2025-07-13 04:18:03,562 - model_comparison - ERROR - Failed to load RandomForest.pkl: Model missing required prediction methods\n",
      "2025-07-13 04:18:03,562 - model_comparison - ERROR - Failed to load SVM.pkl: Model missing required prediction methods\n",
      "2025-07-13 04:18:03,664 - model_comparison - INFO - Loaded XGBoost (Size: 247.35 KB)\n"
     ]
    },
    {
     "name": "stdout",
     "output_type": "stream",
     "text": [
      "✅ Loaded 1 models in 0.69 seconds\n"
     ]
    },
    {
     "data": {
      "text/markdown": [
       "### Successfully Loaded Models"
      ],
      "text/plain": [
       "<IPython.core.display.Markdown object>"
      ]
     },
     "metadata": {},
     "output_type": "display_data"
    },
    {
     "data": {
      "text/html": [
       "<div>\n",
       "<style scoped>\n",
       "    .dataframe tbody tr th:only-of-type {\n",
       "        vertical-align: middle;\n",
       "    }\n",
       "\n",
       "    .dataframe tbody tr th {\n",
       "        vertical-align: top;\n",
       "    }\n",
       "\n",
       "    .dataframe thead th {\n",
       "        text-align: right;\n",
       "    }\n",
       "</style>\n",
       "<table border=\"1\" class=\"dataframe\">\n",
       "  <thead>\n",
       "    <tr style=\"text-align: right;\">\n",
       "      <th></th>\n",
       "      <th>Model</th>\n",
       "      <th>Load Time (s)</th>\n",
       "      <th>Memory Usage (KB)</th>\n",
       "    </tr>\n",
       "  </thead>\n",
       "  <tbody>\n",
       "    <tr>\n",
       "      <th>0</th>\n",
       "      <td>XGBoost</td>\n",
       "      <td>0.091534</td>\n",
       "      <td>247.347656</td>\n",
       "    </tr>\n",
       "  </tbody>\n",
       "</table>\n",
       "</div>"
      ],
      "text/plain": [
       "     Model  Load Time (s)  Memory Usage (KB)\n",
       "0  XGBoost       0.091534         247.347656"
      ]
     },
     "metadata": {},
     "output_type": "display_data"
    },
    {
     "name": "stdout",
     "output_type": "stream",
     "text": [
      "\n",
      "📊 Loading test data...\n"
     ]
    },
    {
     "name": "stderr",
     "output_type": "stream",
     "text": [
      "2025-07-13 04:18:04,524 - model_comparison - WARNING - Missing scouting attributes: ['potential', 'value_eur', 'age', 'overall']\n",
      "2025-07-13 04:18:04,540 - model_comparison - INFO - Loaded 28416 samples with 5447 prospects\n",
      "2025-07-13 04:18:04,646 - model_comparison - INFO - Evaluated XGBoost (AUC: 1.000)\n"
     ]
    },
    {
     "name": "stdout",
     "output_type": "stream",
     "text": [
      "✅ Loaded 28416 samples with 5447 prospects\n",
      "⚠️ Warning: Missing key attributes in test data\n",
      "Available columns: ['num__growth_potential', 'num__potential_ratio', 'num__age', 'num__value_growth_ratio', 'num__overall', 'num__age_adjusted_potential', 'remainder__movement_reactions', 'num__physic', 'num__wage_eur', 'num__defense_index', 'remainder__mentality_composure', 'remainder__power_stamina', 'remainder__power_strength', 'num__value_eur', 'remainder__mentality_aggression', 'num__wage_value_ratio', 'remainder__mentality_interceptions', 'remainder__attacking_crossing', 'num__passing', 'remainder__power_long_shots', 'num__defending', 'num__potential', 'num__skill_index', 'remainder__mentality_positioning', 'remainder__power_shot_power', 'remainder__defending_marking_awareness', 'remainder__skill_fk_accuracy', 'remainder__attacking_heading_accuracy', 'remainder__attacking_short_passing', 'remainder__skill_curve', 'remainder__defending_standing_tackle', 'remainder__skill_ball_control', 'remainder__skill_long_passing', 'num__attack_defense_ratio', 'num__shooting', 'remainder__goalkeeping_positioning', 'remainder__power_jumping', 'remainder__defending_sliding_tackle', 'num__dribbling', 'remainder__attacking_volleys']\n",
      "\n",
      "🧪 Evaluating models...\n",
      "✅ Evaluation completed in 0.10 seconds\n"
     ]
    },
    {
     "data": {
      "text/markdown": [
       "### Model Evaluation Summary"
      ],
      "text/plain": [
       "<IPython.core.display.Markdown object>"
      ]
     },
     "metadata": {},
     "output_type": "display_data"
    },
    {
     "data": {
      "text/html": [
       "<style type=\"text/css\">\n",
       "#T_4bd9e_row0_col0, #T_4bd9e_row0_col1, #T_4bd9e_row0_col2, #T_4bd9e_row0_col3 {\n",
       "  background-color: #440154;\n",
       "  color: #f1f1f1;\n",
       "}\n",
       "</style>\n",
       "<table id=\"T_4bd9e\">\n",
       "  <thead>\n",
       "    <tr>\n",
       "      <th class=\"blank level0\" >&nbsp;</th>\n",
       "      <th id=\"T_4bd9e_level0_col0\" class=\"col_heading level0 col0\" >roc_auc</th>\n",
       "      <th id=\"T_4bd9e_level0_col1\" class=\"col_heading level0 col1\" >accuracy</th>\n",
       "      <th id=\"T_4bd9e_level0_col2\" class=\"col_heading level0 col2\" >f1_score</th>\n",
       "      <th id=\"T_4bd9e_level0_col3\" class=\"col_heading level0 col3\" >prediction_time</th>\n",
       "    </tr>\n",
       "  </thead>\n",
       "  <tbody>\n",
       "    <tr>\n",
       "      <th id=\"T_4bd9e_level0_row0\" class=\"row_heading level0 row0\" >XGBoost</th>\n",
       "      <td id=\"T_4bd9e_row0_col0\" class=\"data row0 col0\" >1.000</td>\n",
       "      <td id=\"T_4bd9e_row0_col1\" class=\"data row0 col1\" >1.000</td>\n",
       "      <td id=\"T_4bd9e_row0_col2\" class=\"data row0 col2\" >1.000</td>\n",
       "      <td id=\"T_4bd9e_row0_col3\" class=\"data row0 col3\" >0.065</td>\n",
       "    </tr>\n",
       "  </tbody>\n",
       "</table>\n"
      ],
      "text/plain": [
       "<pandas.io.formats.style.Styler at 0x14edb932230>"
      ]
     },
     "metadata": {},
     "output_type": "display_data"
    },
    {
     "name": "stderr",
     "output_type": "stream",
     "text": [
      "2025-07-13 04:18:04,856 - model_comparison - INFO - Selected best model: XGBoost (AUC: 1.000)\n"
     ]
    },
    {
     "name": "stdout",
     "output_type": "stream",
     "text": [
      "\n",
      "🏆 Selecting best model...\n",
      "⭐ Best model: XGBoost\n",
      "🏅 ROC AUC: 1.000\n"
     ]
    },
    {
     "data": {
      "text/markdown": [
       "### Best Model: XGBoost"
      ],
      "text/plain": [
       "<IPython.core.display.Markdown object>"
      ]
     },
     "metadata": {},
     "output_type": "display_data"
    },
    {
     "data": {
      "text/html": [
       "<style type=\"text/css\">\n",
       "</style>\n",
       "<table id=\"T_8d136\">\n",
       "  <thead>\n",
       "    <tr>\n",
       "      <th class=\"blank level0\" >&nbsp;</th>\n",
       "      <th id=\"T_8d136_level0_col0\" class=\"col_heading level0 col0\" >Metric Value</th>\n",
       "    </tr>\n",
       "  </thead>\n",
       "  <tbody>\n",
       "    <tr>\n",
       "      <th id=\"T_8d136_level0_row0\" class=\"row_heading level0 row0\" >roc_auc</th>\n",
       "      <td id=\"T_8d136_row0_col0\" class=\"data row0 col0\" >1.000</td>\n",
       "    </tr>\n",
       "    <tr>\n",
       "      <th id=\"T_8d136_level0_row1\" class=\"row_heading level0 row1\" >accuracy</th>\n",
       "      <td id=\"T_8d136_row1_col0\" class=\"data row1 col0\" >1.000</td>\n",
       "    </tr>\n",
       "    <tr>\n",
       "      <th id=\"T_8d136_level0_row2\" class=\"row_heading level0 row2\" >f1_score</th>\n",
       "      <td id=\"T_8d136_row2_col0\" class=\"data row2 col0\" >1.000</td>\n",
       "    </tr>\n",
       "    <tr>\n",
       "      <th id=\"T_8d136_level0_row3\" class=\"row_heading level0 row3\" >precision</th>\n",
       "      <td id=\"T_8d136_row3_col0\" class=\"data row3 col0\" >0.192</td>\n",
       "    </tr>\n",
       "    <tr>\n",
       "      <th id=\"T_8d136_level0_row4\" class=\"row_heading level0 row4\" >recall</th>\n",
       "      <td id=\"T_8d136_row4_col0\" class=\"data row4 col0\" >1.000</td>\n",
       "    </tr>\n",
       "  </tbody>\n",
       "</table>\n"
      ],
      "text/plain": [
       "<pandas.io.formats.style.Styler at 0x14edcbdfe80>"
      ]
     },
     "metadata": {},
     "output_type": "display_data"
    },
    {
     "name": "stdout",
     "output_type": "stream",
     "text": [
      "\n",
      "📈 Initializing model comparator...\n",
      "\n",
      "🔬 Running comprehensive analysis...\n",
      "✅ Analysis completed in 0.15 seconds\n"
     ]
    },
    {
     "data": {
      "text/markdown": [
       "### Business Impact Summary"
      ],
      "text/plain": [
       "<IPython.core.display.Markdown object>"
      ]
     },
     "metadata": {},
     "output_type": "display_data"
    },
    {
     "data": {
      "text/html": [
       "<style type=\"text/css\">\n",
       "</style>\n",
       "<table id=\"T_e1115\">\n",
       "  <thead>\n",
       "    <tr>\n",
       "      <th class=\"blank level0\" >&nbsp;</th>\n",
       "      <th id=\"T_e1115_level0_col0\" class=\"col_heading level0 col0\" >net_benefit</th>\n",
       "      <th id=\"T_e1115_level0_col1\" class=\"col_heading level0 col1\" >true_positives</th>\n",
       "      <th id=\"T_e1115_level0_col2\" class=\"col_heading level0 col2\" >false_positives</th>\n",
       "    </tr>\n",
       "  </thead>\n",
       "  <tbody>\n",
       "    <tr>\n",
       "      <th id=\"T_e1115_level0_row0\" class=\"row_heading level0 row0\" >XGBoost</th>\n",
       "      <td id=\"T_e1115_row0_col0\" class=\"data row0 col0\" >€500,000,000</td>\n",
       "      <td id=\"T_e1115_row0_col1\" class=\"data row0 col1\" >100</td>\n",
       "      <td id=\"T_e1115_row0_col2\" class=\"data row0 col2\" >0</td>\n",
       "    </tr>\n",
       "  </tbody>\n",
       "</table>\n"
      ],
      "text/plain": [
       "<pandas.io.formats.style.Styler at 0x14edcbdf130>"
      ]
     },
     "metadata": {},
     "output_type": "display_data"
    },
    {
     "name": "stdout",
     "output_type": "stream",
     "text": [
      "\n",
      "🎨 Generating visualizations...\n"
     ]
    },
    {
     "name": "stderr",
     "output_type": "stream",
     "text": [
      "2025-07-13 04:18:05,058 - model_comparison - ERROR - Failed to generate performance_comparison: 'error'\n",
      "2025-07-13 04:18:05,063 - model_comparison - ERROR - Failed to generate computational_tradeoff: 'error'\n",
      "2025-07-13 04:18:06,320 - model_comparison - INFO - Generated scalability_analysis visualization\n",
      "2025-07-13 04:18:06,336 - model_comparison - ERROR - Failed to generate business_impact: 'error'\n",
      "2025-07-13 04:18:06,336 - model_comparison - INFO - Successfully generated 1/4 visualizations\n"
     ]
    },
    {
     "name": "stdout",
     "output_type": "stream",
     "text": [
      "✅ Visualizations generated successfully\n"
     ]
    },
    {
     "data": {
      "text/markdown": [
       "### Performance vs Computation Trade-off"
      ],
      "text/plain": [
       "<IPython.core.display.Markdown object>"
      ]
     },
     "metadata": {},
     "output_type": "display_data"
    },
    {
     "data": {
      "image/png": "[encoded data removed]",
      "text/plain": [
       "<IPython.core.display.Image object>"
      ]
     },
     "metadata": {},
     "output_type": "display_data"
    },
    {
     "data": {
      "text/markdown": [
       "### Scalability Analysis"
      ],
      "text/plain": [
       "<IPython.core.display.Markdown object>"
      ]
     },
     "metadata": {},
     "output_type": "display_data"
    },
    {
     "data": {
      "image/png": "[encoded data removed]",
      "text/plain": [
       "<IPython.core.display.Image object>"
      ]
     },
     "metadata": {},
     "output_type": "display_data"
    },
    {
     "data": {
      "text/markdown": [
       "### Business Impact Comparison"
      ],
      "text/plain": [
       "<IPython.core.display.Markdown object>"
      ]
     },
     "metadata": {},
     "output_type": "display_data"
    },
    {
     "name": "stdout",
     "output_type": "stream",
     "text": [
      "❌ Error generating visualizations: [Errno 2] No such file or directory: 'C:\\\\Users\\\\Nanaba\\\\Desktop\\\\football_player_scouting_ml\\\\evaluation_results\\\\business_impact.png'\n",
      "\n",
      "💡 Generating business insights...\n"
     ]
    },
    {
     "data": {
      "text/markdown": [
       "#### Recommendation\n",
       "Recommended Model: XGBoost\n",
       "Estimated Net Benefit: €500.0 million\n",
       "\n",
       "Breakdown:\n",
       "- True Prospects Identified: 100\n",
       "- False Positives: 0\n",
       "\n",
       "Comparison to Other Models:"
      ],
      "text/plain": [
       "<IPython.core.display.Markdown object>"
      ]
     },
     "metadata": {},
     "output_type": "display_data"
    },
    {
     "data": {
      "text/markdown": [
       "#### Key Findings\n",
       "- **Recommended Model**: XGBoost\n",
       "- **Estimated Net Benefit**: €500.0 million\n",
       "- **True Prospects Identified**: 100\n",
       "- **False Positives**: 0\n",
       "- **Average Prospect Value**: €0.0m\n",
       "- **Average Potential**: 0.0\n",
       "- **Average Age**: 0.0"
      ],
      "text/plain": [
       "<IPython.core.display.Markdown object>"
      ]
     },
     "metadata": {},
     "output_type": "display_data"
    },
    {
     "name": "stderr",
     "output_type": "stream",
     "text": [
      "2025-07-13 04:18:06,413 - model_comparison - ERROR - Failed to generate performance_comparison: 'error'\n",
      "2025-07-13 04:18:06,413 - model_comparison - ERROR - Failed to generate computational_tradeoff: 'error'\n",
      "2025-07-13 04:18:07,170 - model_comparison - INFO - Generated scalability_analysis visualization\n",
      "2025-07-13 04:18:07,170 - model_comparison - ERROR - Failed to generate business_impact: 'error'\n",
      "2025-07-13 04:18:07,170 - model_comparison - INFO - Successfully generated 1/4 visualizations\n",
      "2025-07-13 04:18:07,190 - model_comparison - INFO - Successfully saved report to C:\\Users\\Nanaba\\Desktop\\football_player_scouting_ml\\evaluation_results\\model_comparison_report.md\n"
     ]
    },
    {
     "data": {
      "text/markdown": [
       "**Report saved to:** C:\\Users\\Nanaba\\Desktop\\football_player_scouting_ml\\evaluation_results\\model_comparison_report.md"
      ],
      "text/plain": [
       "<IPython.core.display.Markdown object>"
      ]
     },
     "metadata": {},
     "output_type": "display_data"
    },
    {
     "data": {
      "text/markdown": [
       "# Football Prospect Scouting Model Comparison Report\n",
       "Generated on: 2025-07-13 04:18:07\n",
       "\n",
       "## Best Model Recommendation\n",
       "Recommended Model: XGBoost\n",
       "Estimated Net Benefit: €500.0 million\n",
       "\n",
       "Breakdown:\n",
       "- True Prospects Identified: 100\n",
       "- False Positives: 0\n",
       "\n",
       "Comparison to Other Models:\n",
       "\n",
       "## Performance Metrics\n",
       "| Model | ROC AUC | Accuracy | F1 Score | Precision | Recall |\n",
       "|-------|---------|----------|----------|-----------|--------|\n",
       "| XGBoost | 1.000 | 1.000 | 1.000 | 0.192 | 1.000 |\n",
       "\n",
       "## Computational Efficiency\n",
       "| Model | Load Time (s) | Prediction Time (s) | Memory (KB) |\n",
       "|-------|--------------|---------------------|------------|\n",
       "| XGBoost | 0.092 | 0.065 | 247.3 |\n",
       "\n",
       "## Business Impact Analysis\n",
       "| Model | Net Benefit (€) | True Positives | False Positives |\n",
       "|-------|-----------------|----------------|-----------------|\n",
       "| XGBoost | 500,000,000 | 100 | 0 |\n",
       "\n",
       "## Visualizations\n",
       "![Performance Comparison](performance_comparison.png)\n",
       "\n",
       "![Computational Tradeoff](computational_tradeoff.png)\n",
       "\n",
       "![Scalability Analysis](scalability_analysis.png)\n",
       "\n",
       "![Business Impact](business_impact.png)"
      ],
      "text/plain": [
       "<IPython.core.display.Markdown object>"
      ]
     },
     "metadata": {},
     "output_type": "display_data"
    },
    {
     "name": "stderr",
     "output_type": "stream",
     "text": [
      "2025-07-13 04:18:07,216 - model_comparison - ERROR - Failed to generate performance_comparison: 'error'\n",
      "2025-07-13 04:18:07,234 - model_comparison - ERROR - Failed to generate computational_tradeoff: 'error'\n"
     ]
    },
    {
     "name": "stdout",
     "output_type": "stream",
     "text": [
      "\n",
      "💾 Saving comprehensive report...\n"
     ]
    },
    {
     "name": "stderr",
     "output_type": "stream",
     "text": [
      "2025-07-13 04:18:08,169 - model_comparison - INFO - Generated scalability_analysis visualization\n",
      "2025-07-13 04:18:08,173 - model_comparison - ERROR - Failed to generate business_impact: 'error'\n",
      "2025-07-13 04:18:08,175 - model_comparison - INFO - Successfully generated 1/4 visualizations\n",
      "2025-07-13 04:18:08,181 - model_comparison - INFO - Successfully saved report to C:\\Users\\Nanaba\\Desktop\\football_player_scouting_ml\\evaluation_results\\model_comparison_report.md\n"
     ]
    },
    {
     "data": {
      "text/markdown": [
       "**📂 Full report saved to:** C:\\Users\\Nanaba\\Desktop\\football_player_scouting_ml\\evaluation_results\\model_comparison_report.md"
      ],
      "text/plain": [
       "<IPython.core.display.Markdown object>"
      ]
     },
     "metadata": {},
     "output_type": "display_data"
    },
    {
     "name": "stdout",
     "output_type": "stream",
     "text": [
      "✅ Report saved successfully\n",
      "\n",
      "🎉 Enhanced model comparison completed successfully!\n"
     ]
    }
   ],
   "source": [
    "# %% [markdown]\n",
    "\"\"\"\n",
    "# Football Prospect Scouting - Complete Model Comparison\n",
    "## Enhanced Notebook with Computational & Business Analysis\n",
    "\n",
    "This notebook executes the full enhanced comparison pipeline including:\n",
    "1. Performance metrics comparison\n",
    "2. Computational efficiency tracking\n",
    "3. Business impact assessment\n",
    "4. Scalability testing\n",
    "5. Comprehensive visualizations\n",
    "\"\"\"\n",
    "\n",
    "# %%\n",
    "# Setup environment\n",
    "import sys\n",
    "import time\n",
    "import pickle\n",
    "from pathlib import Path\n",
    "import pandas as pd\n",
    "import numpy as np\n",
    "import matplotlib.pyplot as plt\n",
    "import seaborn as sns\n",
    "import json\n",
    "from IPython.display import display, Markdown, Image\n",
    "import warnings\n",
    "import logging\n",
    "warnings.filterwarnings('ignore')\n",
    "\n",
    "# Set up project paths\n",
    "project_root = Path(r\"C:\\Users\\Nanaba\\Desktop\\football_player_scouting_ml\")\n",
    "sys.path.insert(0, str(project_root / \"src\"))\n",
    "# Make sure this import matches your file structure\n",
    "from model_comparison import ProspectModelEvaluator, EnhancedModelComparator\n",
    "\n",
    "# Configure logging\n",
    "logging.basicConfig(level=logging.INFO)\n",
    "logger = logging.getLogger(__name__)\n",
    "\n",
    "# Visualization setup\n",
    "plt.style.use('seaborn-v0_8')\n",
    "sns.set_theme(style=\"whitegrid\", palette=\"viridis\")\n",
    "\n",
    "# %%\n",
    "# Import the enhanced classes (would normally be in separate module)\n",
    "# [Previous implementation of ProspectModelEvaluator and EnhancedModelComparator classes would be here]\n",
    "# For notebook purposes, we'll assume they're imported from model_comparison.py\n",
    "\n",
    "# %%\n",
    "# Helper function to convert all Path objects to strings (for JSON serialization)\n",
    "def convert_paths_to_strings(obj):\n",
    "    if isinstance(obj, dict):\n",
    "        return {k: convert_paths_to_strings(v) for k, v in obj.items()}\n",
    "    elif isinstance(obj, list):\n",
    "        return [convert_paths_to_strings(v) for v in obj]\n",
    "    elif isinstance(obj, Path):\n",
    "        return str(obj)\n",
    "    return obj\n",
    "\n",
    "# %%\n",
    "# Enhanced configuration\n",
    "config = {\n",
    "    \"paths\": {\n",
    "        \"models_dir\": project_root / \"models\" / \"prospect_models_v1\",\n",
    "        \"test_data\": project_root / \"data\" / \"features\" / \"test_features.csv\",\n",
    "        \"new_data\": project_root / \"data\" / \"new_players.csv\",\n",
    "        \"output_dir\": project_root / \"evaluation_results\",\n",
    "        \"deployment_dir\": project_root / \"models\" / \"deployment\",\n",
    "    },\n",
    "    \"scouting_metrics\": {\n",
    "        \"key_attributes\": ['potential', 'value_eur', 'age', 'overall'],\n",
    "        \"success_threshold\": 0.7,\n",
    "        \"top_n_players\": 100,\n",
    "        \"cost_of_miss\": 5000000,  # €5 million\n",
    "        \"cost_of_false_alarm\": 2000000,  # €2 million\n",
    "        \"scaling_test_sizes\": [1000, 5000, 10000, 20000]\n",
    "    },\n",
    "    \"computation_metrics\": {\n",
    "        \"track_training_time\": True,\n",
    "        \"track_prediction_time\": True,\n",
    "        \"track_memory_usage\": True\n",
    "    }\n",
    "}\n",
    "\n",
    "# Convert and save config\n",
    "serializable_config = convert_paths_to_strings(config)\n",
    "with open(project_root / \"config_enhanced.json\", \"w\") as f:\n",
    "    json.dump(serializable_config, f, indent=2)\n",
    "\n",
    "# %%\n",
    "# Initialize enhanced evaluator\n",
    "print(\"🚀 Starting Football Prospect Scouting Model Comparison\")\n",
    "print(\"\\n🔧 Initializing enhanced evaluator...\")\n",
    "evaluator = ProspectModelEvaluator(config)\n",
    "\n",
    "# %%\n",
    "# Load models with computational tracking\n",
    "print(\"\\n🔍 Loading models with resource tracking...\")\n",
    "start_load = time.time()\n",
    "models = evaluator.load_models()\n",
    "load_time = time.time() - start_load\n",
    "print(f\"✅ Loaded {len(models)} models in {load_time:.2f} seconds\")\n",
    "\n",
    "# Display loaded models\n",
    "display(Markdown(\"### Successfully Loaded Models\"))\n",
    "display(pd.DataFrame({\n",
    "    'Model': list(models.keys()),\n",
    "    'Load Time (s)': [m['load_time'] for m in models.values()],\n",
    "    'Memory Usage (KB)': [m['memory_usage'] for m in models.values()]\n",
    "}))\n",
    "\n",
    "# %%\n",
    "# Load and prepare test data\n",
    "print(\"\\n📊 Loading test data...\")\n",
    "try:\n",
    "    X_test, y_test = evaluator.load_test_data()\n",
    "    print(f\"✅ Loaded {len(X_test)} samples with {y_test.sum()} prospects\")\n",
    "    \n",
    "    # Check attributes\n",
    "    available_attrs = [col for col in config[\"scouting_metrics\"][\"key_attributes\"] \n",
    "                     if col in X_test.columns]\n",
    "\n",
    "    if not available_attrs:\n",
    "        print(\"⚠️ Warning: Missing key attributes in test data\")\n",
    "        print(\"Available columns:\", X_test.columns.tolist())\n",
    "    else:\n",
    "        print(\"✔️ Available scouting attributes:\", available_attrs)\n",
    "        \n",
    "except Exception as e:\n",
    "    print(f\"❌ Error loading test data: {str(e)}\")\n",
    "    raise\n",
    "\n",
    "# %%\n",
    "# Execute enhanced evaluation\n",
    "print(\"\\n🧪 Evaluating models...\")\n",
    "start_eval = time.time()\n",
    "evaluator.evaluate_models(X_test, y_test)\n",
    "eval_time = time.time() - start_eval\n",
    "print(f\"✅ Evaluation completed in {eval_time:.2f} seconds\")\n",
    "\n",
    "# Display evaluation summary\n",
    "display(Markdown(\"### Model Evaluation Summary\"))\n",
    "metrics_df = pd.DataFrame(evaluator.results).T\n",
    "if 'error' in metrics_df.columns:\n",
    "    metrics_df = metrics_df[metrics_df['error'].isna()]\n",
    "display(metrics_df[['roc_auc', 'accuracy', 'f1_score', 'prediction_time']].style\n",
    "       .background_gradient(cmap='viridis')\n",
    "       .format(\"{:.3f}\"))\n",
    "\n",
    "# %%\n",
    "# Select best model\n",
    "print(\"\\n🏆 Selecting best model...\")\n",
    "try:\n",
    "    evaluator.select_best_model()\n",
    "    best_model = evaluator.best_model['name']\n",
    "    print(f\"⭐ Best model: {best_model}\")\n",
    "    print(f\"🏅 ROC AUC: {evaluator.best_model['metrics']['roc_auc']:.3f}\")\n",
    "    \n",
    "    # Display best model metrics\n",
    "    display(Markdown(f\"### Best Model: {best_model}\"))\n",
    "    best_metrics = pd.Series(evaluator.best_model['metrics'])\n",
    "    display(best_metrics[['roc_auc', 'accuracy', 'f1_score', 'precision', 'recall']]\n",
    "           .to_frame('Metric Value').style.format(\"{:.3f}\"))\n",
    "    \n",
    "except Exception as e:\n",
    "    print(f\"❌ Error selecting best model: {str(e)}\")\n",
    "    raise\n",
    "\n",
    "# %%\n",
    "# Initialize enhanced comparator\n",
    "print(\"\\n📈 Initializing model comparator...\")\n",
    "comparator = EnhancedModelComparator(evaluator)\n",
    "\n",
    "# %%\n",
    "# Run comprehensive comparison\n",
    "print(\"\\n🔬 Running comprehensive analysis...\")\n",
    "start_compare = time.time()\n",
    "comparison_results = comparator.comprehensive_comparison()\n",
    "compare_time = time.time() - start_compare\n",
    "print(f\"✅ Analysis completed in {compare_time:.2f} seconds\")\n",
    "\n",
    "# Display business impact\n",
    "display(Markdown(\"### Business Impact Summary\"))\n",
    "business_df = pd.DataFrame(comparison_results['business_impact']['impact_analysis']).T\n",
    "if 'error' in business_df.columns:\n",
    "    business_df = business_df[business_df['error'].isna()]\n",
    "display(business_df[['net_benefit', 'true_positives', 'false_positives']]\n",
    "       .sort_values('net_benefit', ascending=False)\n",
    "       .style.format({\n",
    "           'net_benefit': \"€{:,.0f}\",\n",
    "           'true_positives': \"{:.0f}\",\n",
    "           'false_positives': \"{:.0f}\"\n",
    "       }))\n",
    "\n",
    "# %%\n",
    "# Generate all visualizations\n",
    "print(\"\\n🎨 Generating visualizations...\")\n",
    "try:\n",
    "    comparator.generate_visualizations()\n",
    "    print(\"✅ Visualizations generated successfully\")\n",
    "    \n",
    "    # Display key plots inline\n",
    "    output_dir = Path(config[\"paths\"][\"output_dir\"])\n",
    "    \n",
    "    display(Markdown(\"### Performance vs Computation Trade-off\"))\n",
    "    display(Image(filename=str(output_dir / \"computational_tradeoff.png\")))\n",
    "    \n",
    "    display(Markdown(\"### Scalability Analysis\"))\n",
    "    display(Image(filename=str(output_dir / \"scalability_analysis.png\")))\n",
    "    \n",
    "    display(Markdown(\"### Business Impact Comparison\"))\n",
    "    display(Image(filename=str(output_dir / \"business_impact.png\")))\n",
    "    \n",
    "except Exception as e:\n",
    "    print(f\"❌ Error generating visualizations: {str(e)}\")\n",
    "\n",
    "# %%\n",
    "# Generate insights report\n",
    "print(\"\\n💡 Generating business insights...\")\n",
    "try:\n",
    "    insights = comparison_results['business_impact']['rationale']\n",
    "    display(Markdown(f\"#### Recommendation\\n{insights}\"))\n",
    "    \n",
    "    # Additional insights\n",
    "    best_model = comparison_results['business_impact']['recommended_model']\n",
    "    best_stats = comparison_results['business_impact']['impact_analysis'][best_model]\n",
    "    \n",
    "    insights = [\n",
    "        \"#### Key Findings\",\n",
    "        f\"- **Recommended Model**: {best_model}\",\n",
    "        f\"- **Estimated Net Benefit**: €{best_stats['net_benefit']/1e6:.1f} million\",\n",
    "        f\"- **True Prospects Identified**: {best_stats['true_positives']}\",\n",
    "        f\"- **False Positives**: {best_stats['false_positives']}\",\n",
    "        f\"- **Average Prospect Value**: €{best_stats.get('avg_value_eur', 0)/1e6:.1f}m\",\n",
    "        f\"- **Average Potential**: {best_stats.get('avg_potential', 0):.1f}\",\n",
    "        f\"- **Average Age**: {best_stats.get('avg_age', 0):.1f}\"\n",
    "    ]\n",
    "    \n",
    "    display(Markdown(\"\\n\".join(insights)))\n",
    "    \n",
    "except Exception as e:\n",
    "    print(f\"❌ Error generating insights: {str(e)}\")\n",
    "# Generate and display report\n",
    "try:\n",
    "    report_path = comparator.generate_comparison_report()\n",
    "    display(Markdown(f\"**Report saved to:** {report_path}\"))\n",
    "    \n",
    "    # Display the report content\n",
    "    with open(report_path, 'r', encoding='utf-8') as f:\n",
    "        display(Markdown(f.read()))\n",
    "except Exception as e:\n",
    "    print(f\"Error generating report: {str(e)}\")\n",
    "\n",
    "# %%\n",
    "# Save complete report\n",
    "print(\"\\n💾 Saving comprehensive report...\")\n",
    "try:\n",
    "    report_path = comparator.generate_comparison_report()\n",
    "    display(Markdown(f\"**📂 Full report saved to:** {report_path}\"))\n",
    "    print(\"✅ Report saved successfully\")\n",
    "except Exception as e:\n",
    "    print(f\"❌ Error saving report: {str(e)}\")\n",
    "\n",
    "# %%\n",
    "print(\"\\n🎉 Enhanced model comparison completed successfully!\")"
   ]
  },
  {
   "cell_type": "code",
   "execution_count": null,
   "id": "3a086292-7ed1-4289-b651-82efcd064d2a",
   "metadata": {},
   "outputs": [],
   "source": [
    "\n",
    "\n"
   ]
  }
 ],
 "metadata": {
  "kernelspec": {
   "display_name": "Python (final_year_project)",
   "language": "python",
   "name": "final_year_project"
  },
  "language_info": {
   "codemirror_mode": {
    "name": "ipython",
    "version": 3
   },
   "file_extension": ".py",
   "mimetype": "text/x-python",
   "name": "python",
   "nbconvert_exporter": "python",
   "pygments_lexer": "ipython3",
   "version": "3.10.16"
  }
 },
 "nbformat": 4,
 "nbformat_minor": 5
}
