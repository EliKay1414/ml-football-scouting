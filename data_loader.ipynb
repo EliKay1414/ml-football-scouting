{
 "cells": [
  {
   "cell_type": "code",
   "execution_count": 2,
   "id": "43c05223-014b-47c7-b6e2-5fefec165dda",
   "metadata": {
    "scrolled": true
   },
   "outputs": [
    {
     "name": "stdout",
     "output_type": "stream",
     "text": [
      "Current directory: C:\\Users\\Nanaba\\Desktop\\football_player_scouting_ml\\notebooks\n",
      "Added to path: C:\\Users\\Nanaba\\Desktop\\football_player_scouting_ml\\src\n",
      "Data exists: True\n"
     ]
    },
    {
     "name": "stderr",
     "output_type": "stream",
     "text": [
      "INFO:data_loader:Loading data from: C:\\Users\\Nanaba\\Desktop\\football_player_scouting_ml\\data\\raw\\Career Mode player datasets - FIFA 15-22.xlsx\n"
     ]
    },
    {
     "name": "stdout",
     "output_type": "stream",
     "text": [
      "✅ Import successful!\n"
     ]
    },
    {
     "name": "stderr",
     "output_type": "stream",
     "text": [
      "INFO:data_loader:Successfully loaded 14208 rows\n"
     ]
    },
    {
     "name": "stdout",
     "output_type": "stream",
     "text": [
      "\n",
      "Loaded 14208 rows\n",
      "First 3 players:\n",
      "        sofifa_id                                         player_url  \\\n",
      "88856      190356  https://sofifa.com/player/190356/helder-tiago-...   \n",
      "130444     193706  https://sofifa.com/player/193706/dario-dumic/2...   \n",
      "123306     223724  https://sofifa.com/player/223724/stefan-lainer...   \n",
      "\n",
      "       short_name                        long_name player_positions  overall  \\\n",
      "88856      Guedes  Hélder Tiago Pinto Moura Guedes               ST       72   \n",
      "130444   D. Dumić                      Dario Đumić               CB       67   \n",
      "123306  S. Lainer                    Stefan Lainer               RB       80   \n",
      "\n",
      "        potential   value_eur  wage_eur  age  ...    cb   rcb    rb    gk  \\\n",
      "88856          72   2500000.0    6000.0   32  ...  50+2  50+2  47+2  17+2   \n",
      "130444         67    850000.0    4000.0   29  ...    67    67  59+2  18+2   \n",
      "123306         80  19000000.0   34000.0   28  ...  74+2  74+2  77+2  17+2   \n",
      "\n",
      "                                          player_face_url  \\\n",
      "88856   https://cdn.sofifa.net/players/190/356/20_120.png   \n",
      "130444  https://cdn.sofifa.net/players/193/706/22_120.png   \n",
      "123306  https://cdn.sofifa.net/players/223/724/22_120.png   \n",
      "\n",
      "                                   club_logo_url  \\\n",
      "88856    https://cdn.sofifa.net/teams/665/60.png   \n",
      "130444  https://cdn.sofifa.net/teams/1908/60.png   \n",
      "123306    https://cdn.sofifa.net/teams/23/60.png   \n",
      "\n",
      "                              club_flag_url nation_logo_url  \\\n",
      "88856   https://cdn.sofifa.net/flags/pt.png             NaN   \n",
      "130444  https://cdn.sofifa.net/flags/nl.png             NaN   \n",
      "123306  https://cdn.sofifa.net/flags/de.png             NaN   \n",
      "\n",
      "                            nation_flag_url  year  \n",
      "88856   https://cdn.sofifa.net/flags/pt.png  2020  \n",
      "130444  https://cdn.sofifa.net/flags/ba.png  2022  \n",
      "123306  https://cdn.sofifa.net/flags/at.png  2022  \n",
      "\n",
      "[3 rows x 111 columns]\n"
     ]
    }
   ],
   "source": [
    "import sys\n",
    "from pathlib import Path\n",
    "import os\n",
    "\n",
    "# 1. Get the current working directory\n",
    "current_dir = Path.cwd()\n",
    "print(f\"Current directory: {current_dir}\")\n",
    "\n",
    "# 2. Check if we're in the notebooks folder\n",
    "if current_dir.name == 'notebooks':\n",
    "    project_root = current_dir.parent\n",
    "else:\n",
    "    project_root = current_dir\n",
    "\n",
    "# 3. Add the src directory to Python path\n",
    "src_dir = project_root / 'src'\n",
    "sys.path.insert(0, str(src_dir))\n",
    "print(f\"Added to path: {src_dir}\")\n",
    "\n",
    "# 4. Verify the data path\n",
    "data_path = project_root / 'data' / 'raw' / 'Career Mode player datasets - FIFA 15-22.xlsx'\n",
    "print(f\"Data exists: {data_path.exists()}\")\n",
    "\n",
    "# 5. Import using absolute import\n",
    "try:\n",
    "    from data_loader import load_fifa_data  # Note: direct import from module\n",
    "    print(\"✅ Import successful!\")\n",
    "    \n",
    "    # 6. Load the data\n",
    "    df = load_fifa_data(\n",
    "        file_path=str(data_path),\n",
    "        sample_frac=0.1\n",
    "    )\n",
    "    \n",
    "    # 7. Show results\n",
    "    print(f\"\\nLoaded {len(df)} rows\")\n",
    "    print(\"First 3 players:\")\n",
    "    print(df.head(3))\n",
    "    \n",
    "except Exception as e:\n",
    "    print(f\"\\n❌ Error: {e}\")\n",
    "    print(\"\\nFinal troubleshooting:\")\n",
    "    print(\"1. Verify file structure with:\")\n",
    "    print(\"   !tree /F /A\")\n",
    "    print(\"2. Test the script directly:\")\n",
    "    print(f\"   !python {src_dir/'data_loader.py'}\")\n",
    "    print(\"3. Check Python path:\")\n",
    "    print(\"   import sys; print(sys.path)\")"
   ]
  }
 ],
 "metadata": {
  "kernelspec": {
   "display_name": "Python 3 (ipykernel)",
   "language": "python",
   "name": "python3"
  },
  "language_info": {
   "codemirror_mode": {
    "name": "ipython",
    "version": 3
   },
   "file_extension": ".py",
   "mimetype": "text/x-python",
   "name": "python",
   "nbconvert_exporter": "python",
   "pygments_lexer": "ipython3",
   "version": "3.12.7"
  }
 },
 "nbformat": 4,
 "nbformat_minor": 5
}
